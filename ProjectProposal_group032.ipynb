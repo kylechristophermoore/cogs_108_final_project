{
 "cells": [
  {
   "cell_type": "markdown",
   "metadata": {},
   "source": [
    "# COGS 108 - Final Project Proposal"
   ]
  },
  {
   "cell_type": "markdown",
   "metadata": {},
   "source": [
    "# Names\n",
    "\n",
    "- Kelly Leon\n",
    "- Kyle Moore\n",
    "- Harshini Ramaswamy\n",
    "- Jennifer Vo\n",
    "- Christina Ryder"
   ]
  },
  {
   "cell_type": "markdown",
   "metadata": {},
   "source": [
    "# Research Question"
   ]
  },
  {
   "cell_type": "markdown",
   "metadata": {},
   "source": [
    "Is there a relationship between rates of reported sexual assault cases and public safety, neighborhood services, and public transportation investment by cities in the U.S since 2000? \n",
    "- In San Diego, alone, since 2000?\n",
    "- In the top five cities with the largest population density since 2000?\n",
    "- In each major city in each region of the U.S. since 2000?\n"
   ]
  },
  {
   "cell_type": "markdown",
   "metadata": {},
   "source": [
    "## Background and Prior Work"
   ]
  },
  {
   "cell_type": "markdown",
   "metadata": {},
   "source": [
    "Previous research confirms that more women use public transportation than men(Gendered Innovations at Stanford, 2001; UK Department of Transport, 2002). A study carried out by the UK Department of Transport (2002) found that women were more likely than men to experience sexual assault, harassment, or indecent exposure in public transportation spaces. Moreover, a survey conducted in 3 cities in Argentina, Chile, and Ecuador found that fear of being harassed was reported most frequently as the greatest concern for public transport users, the majority being women(Allen et al., 2018). \n",
    "\n",
    "Unsafe public transportation spaces can deter use, limit mobility and access to economic and educational opportunities, and force individuals to compromise personal safety. Fear of using public transportation can influence choice of route, travel patterns, and potentially lead to complete avoidance of public spaces deemed unsafe(Gekoski et al., 2017). The UK Department of Transport (2002) estimated that 10.5% more journeys would occur if the public felt more secure while traveling. \n",
    "\n",
    "These same worries transfer over to public spaces in general. Parks, public squares, recreational facilities, and night life also have their own causes for concern for women. Allen et al. (2018) propose that investing in inclusive, well-planned public spaces, infrastructure, urban services, and transport could reduce instances of sexual violence and harassment experienced in public spaces. Analyzing how cities are addressing these problems by examining where their spending is concentrated, as well as any correlation between spending and rates of assault, could provide a framework and direction for what is working and what isn’t. There hasn’t been much research on how city spending on infrastructure and public safety connects with ensuring women’s safety, so it is an interesting and important topic to us. \n",
    "\n",
    "Though there is little empirical literature available to understand the link between public transit investment and preventing sexual assault cases, some smaller scale studies have investigated sexual assault prevention initiatives in other public spaces. Day (1995) examined prevention on urban college campuses and strategies at both the individual and school level. She emphasizes the efficacy of community engagement in raising awareness about sexual assault and how most of the schools’ approaches include expanding public transportation and increased security on campus. \n",
    "\n",
    "In this study, we plan to examine how community engagement, or neighborhood services, is addressed by city spending and how it has impacted rates of sexual violence. Additionally, we intend to explore and quantify the impact of investing in public safety and transportation infrastructure on the instances of sexual violence and harassment reported over the last two decades. \n",
    "\n",
    "\n",
    "References (include links):\n",
    "\n",
    "1)https://assets.publishing.service.gov.uk/government/uploads/system/uploads/attachment_data/file/620485/Infrastructure-Cities-briefing-note.pdf\n",
    "\n",
    "2)http://genderedinnovations.stanford.edu/case-studies/transportation.html#tabs-2\n",
    "\n",
    "3)https://scioteca.caf.com/bitstream/handle/123456789/1407/Ella%20se%20mueve%20segura%20%E2%80%93%20A%20study%20on%20womens%20personal%20safety.pdf?sequence=5&isAllowed=y\n",
    "\n",
    "4)https://doi.org/10.1177/1524838009334129\n",
    "\n",
    "5)https://doi.org/10.1006/jevp.1995.0024\n",
    "\n",
    "6)https://www.google.com/books/edition/Research_on_Women_s_Issues_in_Transporta/nbtAJRvBaWsC?hl=en&gbpv=1&dq=sexual+assault+public+transport&pg=PA100&printsec=frontcover \n"
   ]
  },
  {
   "cell_type": "markdown",
   "metadata": {},
   "source": [
    "# Hypothesis\n"
   ]
  },
  {
   "cell_type": "markdown",
   "metadata": {},
   "source": [
    "We hypothesize that high rates of reported sexual assault cases are associated with less spending by cities on public safety, neighborhood services, and public transportation. This hypothesis follows from previous research that suggests that community engagement and investing in public safety and transportation may prevent sexual violence."
   ]
  },
  {
   "cell_type": "markdown",
   "metadata": {},
   "source": [
    "# Data"
   ]
  },
  {
   "cell_type": "markdown",
   "metadata": {},
   "source": [
    "For our study, our ideal dataset would include reported sexual assault cases and population, as well as public safety, neighborhood services, and public transportation investment spending from each city. If our study compared the relationship between rates of reported sexual assault cases and public safety, neighborhood services, and public transportation investment of five different cities, we would have 105 observations for each variable as we would collect a data point for each year for each city over a span of 21 years. For example, with reported sexual assault cases, one city would have one datapoint per year for 21 years, totaling 21 observations for this variable for this city. By comparing five different cities, we would have 105 observations for the variable of reported sexual assault cases. Sexual assault cases would be collected through reports on the city’s police department’s website. Public safety, neighborhood services, and public transportation investment spending data would be collected from the city’s official government website. Population by year would be collected from the U.S. Census. Our data would be stored in a format where every observation of our variables would be in a row, with each row identified by year, while each variable would be a column. Our variables for each column would be year, population, sexual assault cases, public safety spending, neighborhood services spending, and public transportation spending. We would have one table for each city, totaling 5 tables to store our data. Ideally, the data for each city would be semi-structured and stored as a CSV file for organization. \n"
   ]
  },
  {
   "cell_type": "markdown",
   "metadata": {},
   "source": [
    "# Ethics & Privacy"
   ]
  },
  {
   "cell_type": "markdown",
   "metadata": {},
   "source": [
    "The data we are looking at revolves around sexual assault, which can be a triggering and personal topic. While we do not anticipate any negative risks or potential harm in solving this question, the topic of discourse can make readers uncomfortable, but we hope that our findings can be a productive analysis on the relationship between government spending for public infrastructure, community resources, and reported sexual assault. \n",
    "\n",
    "Throughout our analysis we will ensure that all data is anonymized and ethically collected, such that none of the personal information from the reported sexual assaults is identifiable. However, this should not be a problem since we plan on extracting pre-existing public data from official government websites and the U.S. Census, which are already anonymized. Using data that is readily available to the public helps to mitigate any potential privacy risks surrounding our data. We will uphold all usage agreements outlined by our data sources. \n",
    "\n",
    "We also will strive to identify and minimize bias within our datasets. We anticipate negligible bias since the spending reports and reported sexual assault data will be taken directly from government disclosure. A potential bias to consider is that there will be fewer reports of sexual assault than what has actually occured, since historically, sexual assault cases are underreported due to victim blaming, societal stigma, and other factors. This means that our findings will be subjected to a slight skew which we will keep in mind during our analysis and conclusion. Additionally, we are using U.S. Census data, which can be subject to nonresponse bias, a phenomenon where not all participants respond to the Census, leading to a marginally inaccurate estimate of population. \n"
   ]
  },
  {
   "cell_type": "markdown",
   "metadata": {},
   "source": [
    "# Team Expectations "
   ]
  },
  {
   "cell_type": "markdown",
   "metadata": {},
   "source": [
    "* We expect equal contributions from all team members.\n",
    "* We expect respectful and timely communication, largely through Discord.\n",
    "* We will make decisions based on group consensus or majority vote.\n",
    "* If issues arise, we’ll communicate with one another and ensure that everyone’s input is heard. If our issue cannot be resolved, we agree to contact the professor or the TA for further guidance. "
   ]
  },
  {
   "cell_type": "markdown",
   "metadata": {},
   "source": [
    "# Project Timeline Proposal"
   ]
  },
  {
   "cell_type": "markdown",
   "metadata": {},
   "source": [
    "| Meeting Date  | Meeting Time| Completed Before Meeting  | Discuss at Meeting |\n",
    "|---|---|---|---|\n",
    "| N/A  |  1 PM | Read & Think about COGS 108 expectations; brainstorm topics/questions  | Determine best form of communication; Discuss and decide on final project topic; discuss hypothesis; begin background research | \n",
    "| 4/22  |  4 PM |  Brainstorm possible research questions | Discuss ideal dataset(s) and ethics; draft project proposal | \n",
    "| 5/7  | 4 PM  | Determine what data to be used. Import, clean up, and wrangle data into tidy data | Checkpoint #1: Data, distribute write up among group members |\n",
    "| 5/21  | 4 PM  | Finalize wrangling/EDA; Begin Data analysis | Checkpoint #2: EDA, Data, distribute write up among group members |\n",
    "| 5/28  | 4 PM  | Complete analysis; Draft results/conclusion/discussion | Discuss/edit full project |\n",
    "| 6/04  | Before 11:59 PM  | NA | Turn in Final Project & Group Project Surveys |"
   ]
  }
 ],
 "metadata": {
  "kernelspec": {
   "display_name": "Python 3",
   "language": "python",
   "name": "python3"
  },
  "language_info": {
   "codemirror_mode": {
    "name": "ipython",
    "version": 3
   },
   "file_extension": ".py",
   "mimetype": "text/x-python",
   "name": "python",
   "nbconvert_exporter": "python",
   "pygments_lexer": "ipython3",
   "version": "3.6.5"
  }
 },
 "nbformat": 4,
 "nbformat_minor": 2
}
